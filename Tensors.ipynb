{
  "nbformat": 4,
  "nbformat_minor": 0,
  "metadata": {
    "colab": {
      "provenance": [],
      "gpuType": "T4",
      "authorship_tag": "ABX9TyN22cu53+qBlzeta9zy9lv4",
      "include_colab_link": true
    },
    "kernelspec": {
      "name": "python3",
      "display_name": "Python 3"
    },
    "language_info": {
      "name": "python"
    },
    "accelerator": "GPU"
  },
  "cells": [
    {
      "cell_type": "markdown",
      "metadata": {
        "id": "view-in-github",
        "colab_type": "text"
      },
      "source": [
        "<a href=\"https://colab.research.google.com/github/MehediAzim/DL-pytorch/blob/main/Tensors.ipynb\" target=\"_parent\"><img src=\"https://colab.research.google.com/assets/colab-badge.svg\" alt=\"Open In Colab\"/></a>"
      ]
    },
    {
      "cell_type": "code",
      "execution_count": 1,
      "metadata": {
        "id": "a14Ut82AyiWe"
      },
      "outputs": [],
      "source": [
        "import torch"
      ]
    },
    {
      "cell_type": "markdown",
      "source": [
        "# Modules"
      ],
      "metadata": {
        "id": "ENv4msNU0BPQ"
      }
    },
    {
      "cell_type": "code",
      "source": [
        "import torch.nn as nn\n",
        "\n",
        "class Mymodel(nn.Module):\n",
        "  #init function\n",
        "  def __init__(self):\n",
        "    super.__init__(self)\n",
        "\n",
        "    self.hidden = nn.Linear(3,4)\n",
        "    self.output = nn.Linear(4,1)\n",
        "\n",
        "  #forward function\n",
        "  def forward(self, x):\n",
        "      hidden_output = self.hidden(x)\n",
        "      return self.output(hidden_output)"
      ],
      "metadata": {
        "id": "9-88pkKhzP-F"
      },
      "execution_count": null,
      "outputs": []
    }
  ]
}